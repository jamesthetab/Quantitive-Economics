{
 "cells": [
  {
   "cell_type": "markdown",
   "metadata": {},
   "source": [
    "TIP 66 - LINE MAGICS\n",
    "----------------\n",
    "\n",
    "As we’ve seen, any Python command can be typed into an IPython shell, but IPython understands more than just Python statements.\n",
    "\n",
    "For example, file foo.py in the present working directory can be executed using run."
   ]
  },
  {
   "cell_type": "code",
   "execution_count": 2,
   "metadata": {
    "collapsed": false
   },
   "outputs": [
    {
     "name": "stdout",
     "output_type": "stream",
     "text": [
      "1. Quant Econ - Introduction.ipynb  7. Quant Econ - IPython.ipynb\r\n",
      "2. Quant Econ - OOP.ipynb           gd.xls\r\n",
      "3. Quant Econ - NumPy.ipynb         temp.py\r\n",
      "4. Quant Econ - Matplotlib.ipynb    test_pwt.csv\r\n",
      "5. Quant Econ - SciPy.ipynb         us_cities.txt\r\n",
      "6. Quant Econ - Pandas.ipynb\r\n"
     ]
    }
   ],
   "source": [
    "ls"
   ]
  },
  {
   "cell_type": "code",
   "execution_count": 4,
   "metadata": {
    "collapsed": true
   },
   "outputs": [],
   "source": [
    "%run temp.py"
   ]
  },
  {
   "cell_type": "markdown",
   "metadata": {},
   "source": [
    "Here run is not a Python command, rather it is an IPython magic.\n",
    "\n",
    "IPython magics are divided into\n",
    "\n",
    "- Line magics, which precede and act on a single line\n",
    "\n",
    "- Cell magics, which act on a cell in a Jupyter notebook\n",
    "\n",
    "In general,\n",
    "\n",
    "- line magics need to be prefixed by %, for example, %run test.py runs file test.py\n",
    "\n",
    "- cell magics need to be prefixed by %%, for example, %%latex means the contents of the cell will be interpreted as LaTeX"
   ]
  },
  {
   "cell_type": "markdown",
   "metadata": {},
   "source": [
    "TIP 67 - TIMING CODE\n",
    "------------\n",
    "\n",
    "To know how long certain blocks of code take to run, IPython includes the ```timeit``` magic.\n",
    "We begin with some code:"
   ]
  },
  {
   "cell_type": "code",
   "execution_count": 11,
   "metadata": {
    "collapsed": true
   },
   "outputs": [],
   "source": [
    "import numpy as np\n",
    "\n",
    "def p1(x, coef):\n",
    "    return sum(a * x**i for i, a in enumerate(coef))\n",
    "\n",
    "def p2(x, coef):\n",
    "    X = np.empty(len(coef))\n",
    "    X[0] = 1\n",
    "    X[1:] = x\n",
    "    y = np.cumprod(X)   # y = [1, x, x**2,...]\n",
    "    return np.dot(coef, y)"
   ]
  },
  {
   "cell_type": "markdown",
   "metadata": {},
   "source": [
    "Note that p1 uses pure Python, whereas p2 uses NumPy arrays and should run faster\n",
    "\n",
    "Here’s how we can test this"
   ]
  },
  {
   "cell_type": "code",
   "execution_count": 6,
   "metadata": {
    "collapsed": false
   },
   "outputs": [
    {
     "data": {
      "text/plain": [
       "21"
      ]
     },
     "execution_count": 6,
     "metadata": {},
     "output_type": "execute_result"
    }
   ],
   "source": [
    "p1(10, (1, 2))  # Let's make sure the function works OK"
   ]
  },
  {
   "cell_type": "code",
   "execution_count": 7,
   "metadata": {
    "collapsed": false
   },
   "outputs": [
    {
     "data": {
      "text/plain": [
       "21.0"
      ]
     },
     "execution_count": 7,
     "metadata": {},
     "output_type": "execute_result"
    }
   ],
   "source": [
    "p2(10, (1, 2))  # Ditto"
   ]
  },
  {
   "cell_type": "code",
   "execution_count": 12,
   "metadata": {
    "collapsed": false
   },
   "outputs": [
    {
     "name": "stdout",
     "output_type": "stream",
     "text": [
      "The slowest run took 8.52 times longer than the fastest. This could mean that an intermediate result is being cached.\n",
      "1000000 loops, best of 3: 1.76 µs per loop\n"
     ]
    }
   ],
   "source": [
    "coef = np.random.randn(1000)\n",
    "%timeit p1(0.9, (1, 2))"
   ]
  },
  {
   "cell_type": "code",
   "execution_count": 13,
   "metadata": {
    "collapsed": false
   },
   "outputs": [
    {
     "name": "stdout",
     "output_type": "stream",
     "text": [
      "The slowest run took 10.90 times longer than the fastest. This could mean that an intermediate result is being cached.\n",
      "100000 loops, best of 3: 16.8 µs per loop\n"
     ]
    }
   ],
   "source": [
    "%timeit p2(0.9, coef)"
   ]
  },
  {
   "cell_type": "markdown",
   "metadata": {},
   "source": [
    "TIP 68 - DEBUGGING\n",
    "-----------\n",
    "To avoid having to litter code with print statements we can use a debugger.\n",
    "\n",
    "The standard Python debugger is ```pdb```.\n",
    "\n",
    "Here we use one called ```ipdb``` that plays well with the IPython shell.\n",
    "\n",
    "If you don’t have it, try ```pip install ipdb``` in a terminal."
   ]
  }
 ],
 "metadata": {
  "kernelspec": {
   "display_name": "Python 2",
   "language": "python",
   "name": "python2"
  },
  "language_info": {
   "codemirror_mode": {
    "name": "ipython",
    "version": 2
   },
   "file_extension": ".py",
   "mimetype": "text/x-python",
   "name": "python",
   "nbconvert_exporter": "python",
   "pygments_lexer": "ipython2",
   "version": "2.7.11"
  }
 },
 "nbformat": 4,
 "nbformat_minor": 0
}
